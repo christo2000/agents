{
 "cells": [
  {
   "cell_type": "code",
   "execution_count": 1,
   "id": "72154846-963e-4b53-bcc6-0872a92f0c45",
   "metadata": {},
   "outputs": [],
   "source": [
    "import requests\n",
    "import base64\n",
    "\n",
    "# Path to your image\n",
    "image_path = r\"C:\\Users\\HOME\\Pictures\\INFRASTRUCTURE.jpg\"\n",
    "\n",
    "# Encode the image to base64\n",
    "with open(image_path, \"rb\") as img_file:\n",
    "    base64_string = base64.b64encode(img_file.read()).decode('utf-8')\n",
    "\n",
    "# Define the API endpoint\n",
    "url = \"http://localhost:11434/api/chat\"\n",
    "\n",
    "# Create the message payload with both the image and a text query\n",
    "payload = {\n",
    "    \"model\": \"qwen2.5vl:7b\",  # or \"deepseek-vl\" for vision-language tasks\n",
    "    \"stream\": False,\n",
    "    \"messages\": [\n",
    "        {\n",
    "            \"role\": \"user\",\n",
    "            \"content\": \"Explain this image.\",\n",
    "            \"images\": [ base64_string]  # Wrap the base64 string in a dictionary and put it in a list\n",
    "        }\n",
    "    ]\n",
    "}\n",
    "\n",
    "# Send the request\n",
    "response = requests.post(url, json=payload)\n",
    "\n",
    "\n"
   ]
  },
  {
   "cell_type": "code",
   "execution_count": 7,
   "id": "c29e576b-a5a4-4898-bc8a-a470d5d0a7fc",
   "metadata": {},
   "outputs": [
    {
     "data": {
      "text/plain": [
       "'This image is a surreal and dramatic illustration that juxtaposes two contrasting environments. On the left side, there is a dark, ominous castle with a menacing dragon emerging from its walls, suggesting a setting of danger or evil. The sky is filled with dark clouds, and the overall color palette is dominated by shades of orange and brown, giving a sense of foreboding.\\n\\nOn the right side, there is a serene and peaceful church with a gothic architectural style, surrounded by greenery and a calm atmosphere. The sky here is a mix of dark and light clouds, with a hint of blue, suggesting a more tranquil and hopeful environment.\\n\\nA path divides the two sides, and a boy is walking along this path, carrying a briefcase. The path itself is a dividing line between the two contrasting worlds, symbolizing a journey or transition between different states of life or reality. The presence of tombstones on the right side of the path adds a layer of symbolism, possibly indicating a journey from life to death or from the mundane to the spiritual.\\n\\nThe text \"INFRASTRUCTURE MIGRATION\" and \"END OF ENTERPRISE\" is prominently displayed at the top of the image, which could be interpreted as a commentary on the themes of change, transition, and the end of certain systems or enterprises. The overall composition of the image suggests a narrative of a journey from the dark and dangerous to the light and peaceful, with the boy representing the individual making this transition.'"
      ]
     },
     "execution_count": 7,
     "metadata": {},
     "output_type": "execute_result"
    }
   ],
   "source": [
    "response.json()[\"message\"][\"content\"]"
   ]
  }
 ],
 "metadata": {
  "kernelspec": {
   "display_name": "Python 3 (ipykernel)",
   "language": "python",
   "name": "python3"
  },
  "language_info": {
   "codemirror_mode": {
    "name": "ipython",
    "version": 3
   },
   "file_extension": ".py",
   "mimetype": "text/x-python",
   "name": "python",
   "nbconvert_exporter": "python",
   "pygments_lexer": "ipython3",
   "version": "3.12.4"
  }
 },
 "nbformat": 4,
 "nbformat_minor": 5
}
